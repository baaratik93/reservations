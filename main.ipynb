{
 "cells": [
  {
   "cell_type": "code",
   "execution_count": 5,
   "metadata": {},
   "outputs": [
    {
     "name": "stdout",
     "output_type": "stream",
     "text": [
      "[(5, 'THIAM', 'Mamadou', '221776567788', None, 'momo', 'passer', 'admin'), (6, 'SY', 'Abdoul', '22177656677', None, 'doul', 'passer', 'client'), (7, 'Lam', 'Siradji', '22177676877', None, 'baba', 'passer', 'client'), (8, 'DIA', 'Samba', '221887879966', '', 'bathie', 'passer', 'client')]\n"
     ]
    }
   ],
   "source": [
    "import psycopg2\n",
    "\n",
    "conn = psycopg2.connect(\n",
    "    host= \"localhost\",\n",
    "    database = \"auto-reserv\",\n",
    "    user=\"mahmoud\",\n",
    "    password=\"passer\"\n",
    ")\n",
    "cursor = conn.cursor()\n",
    "client = (\"DIA\",\"Samba\",\"221887879966\",\"\",\"bathie\",\"passer\",\"client\")\n",
    "# sql = \"INSERT INTO utilisateur (nom,prenom,telephone,image,login,mot_de_passe,role) VALUES {}\".format(client)\n",
    "sql = \"SELECT * FROM utilisateur\"\n",
    "cursor.execute(sql)\n",
    "conn.commit()\n",
    "cursor.close()\n",
    "conn.close()"
   ]
  },
  {
   "cell_type": "code",
   "execution_count": 52,
   "metadata": {},
   "outputs": [],
   "source": [
    "def requete(sql):\n",
    "    import psycopg2\n",
    "    conn = psycopg2.connect(\n",
    "        host= \"localhost\",\n",
    "        database = \"auto-reserv\",\n",
    "        user=\"mahmoud\",\n",
    "        password=\"passer\"\n",
    "    )\n",
    "    cursor = conn.cursor()\n",
    "    cursor.execute(sql)\n",
    "    conn.commit()\n",
    "    return cursor\n",
    "    cursor.close()\n",
    "    conn.close()\n",
    "    "
   ]
  },
  {
   "cell_type": "code",
   "execution_count": 42,
   "metadata": {},
   "outputs": [],
   "source": [
    "client = (\"SABALY\",\"Moussa\",\"2218878793334\",\"\",\"moise\",\"passer\",\"client\")\n",
    "sql = \"INSERT INTO utilisateur (nom,prenom,telephone,image,login,mot_de_passe,role) VALUES {}\".format(client)\n",
    "r = requete(\"DELETE FROM utilisateur WHERE id_utilisateur = 14;\")\n",
    "\n",
    "# r.fetchall()"
   ]
  },
  {
   "cell_type": "code",
   "execution_count": 55,
   "metadata": {},
   "outputs": [
    {
     "data": {
      "text/plain": [
       "[(5, 'THIAM', 'Mamadou', '221776567788', None, 'momo', 'passer', 'admin'),\n",
       " (6, 'SY', 'Abdoul', '22177656677', None, 'doul', 'passer', 'client'),\n",
       " (7, 'Lam', 'Siradji', '22177676877', None, 'baba', 'passer', 'client'),\n",
       " (8, 'DIA', 'Samba', '221887879966', '', 'bathie', 'passer', 'client'),\n",
       " (13, 'SABALY', 'Moussa', '2218878793334', '', 'moise', 'passer', 'client')]"
      ]
     },
     "execution_count": 55,
     "metadata": {},
     "output_type": "execute_result"
    }
   ],
   "source": [
    "requete(\"SELECT * FROM utilisateur\").fetchall()"
   ]
  },
  {
   "cell_type": "code",
   "execution_count": 57,
   "metadata": {},
   "outputs": [
    {
     "name": "stdout",
     "output_type": "stream",
     "text": [
      "False\n"
     ]
    }
   ],
   "source": [
    "a = {}\n",
    "\n",
    "if a:\n",
    "    print(\"True\")\n",
    "else:\n",
    "    print(\"False\")"
   ]
  }
 ],
 "metadata": {
  "kernelspec": {
   "display_name": "Python 3",
   "language": "python",
   "name": "python3"
  },
  "language_info": {
   "codemirror_mode": {
    "name": "ipython",
    "version": 3
   },
   "file_extension": ".py",
   "mimetype": "text/x-python",
   "name": "python",
   "nbconvert_exporter": "python",
   "pygments_lexer": "ipython3",
   "version": "3.10.6"
  },
  "orig_nbformat": 4
 },
 "nbformat": 4,
 "nbformat_minor": 2
}
